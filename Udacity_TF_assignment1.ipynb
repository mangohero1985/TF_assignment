{
 "cells": [
  {
   "cell_type": "code",
   "execution_count": 1,
   "metadata": {
    "collapsed": false
   },
   "outputs": [],
   "source": [
    "# Make required import\n",
    "import matplotlib as plt\n",
    "import numpy as np\n",
    "import os\n",
    "import tarfile\n",
    "import urllib\n",
    "from IPython.display import display, Image\n",
    "from scipy import ndimage\n",
    "from sklearn.linear_model import LinearRegression\n",
    "import cPickle as pickle"
   ]
  },
  {
   "cell_type": "code",
   "execution_count": 2,
   "metadata": {
    "collapsed": false
   },
   "outputs": [
    {
     "name": "stdout",
     "output_type": "stream",
     "text": [
      "Found and verified notMNIST_large.tar.gz\n",
      "Found and verified notMNIST_small.tar.gz\n"
     ]
    }
   ],
   "source": [
    "# Download data and verified\n",
    "url = 'http://yaroslavvb.com/upload/notMNIST/'\n",
    "\n",
    "def maybe_download(filename, expected_bytes):\n",
    "  \"\"\"Download a file if not present, and make sure it's the right size.\"\"\"\n",
    "  if not os.path.exists(filename):\n",
    "    filename, _ = urllib.urlretrieve(url + filename, filename)\n",
    "  statinfo = os.stat(filename)\n",
    "  if statinfo.st_size == expected_bytes:\n",
    "    print 'Found and verified', filename\n",
    "  else:\n",
    "    raise Exception(\n",
    "      'Failed to verify' + filename + '. Can you get to it with a browser?')\n",
    "  return filename\n",
    "\n",
    "train_filename = maybe_download('notMNIST_large.tar.gz', 247336696)\n",
    "test_filename = maybe_download('notMNIST_small.tar.gz', 8458043)"
   ]
  },
  {
   "cell_type": "code",
   "execution_count": 3,
   "metadata": {
    "collapsed": false
   },
   "outputs": [
    {
     "name": "stdout",
     "output_type": "stream",
     "text": [
      "['notMNIST_large/A', 'notMNIST_large/B', 'notMNIST_large/C', 'notMNIST_large/D', 'notMNIST_large/E', 'notMNIST_large/F', 'notMNIST_large/G', 'notMNIST_large/H', 'notMNIST_large/I', 'notMNIST_large/J']\n",
      "['notMNIST_small/A', 'notMNIST_small/B', 'notMNIST_small/C', 'notMNIST_small/D', 'notMNIST_small/E', 'notMNIST_small/F', 'notMNIST_small/G', 'notMNIST_small/H', 'notMNIST_small/I', 'notMNIST_small/J']\n"
     ]
    }
   ],
   "source": [
    "# decompress train_data and test_data\n",
    "num_classes = 10\n",
    "\n",
    "def extract(filename):\n",
    "  tar = tarfile.open(filename)\n",
    "  tar.extractall()\n",
    "  tar.close()\n",
    "  root = os.path.splitext(os.path.splitext(filename)[0])[0]  # remove .tar.gz\n",
    "  data_folders = [os.path.join(root, d) for d in sorted(os.listdir(root))]\n",
    "  if len(data_folders) != num_classes:\n",
    "    raise Exception(\n",
    "      'Expected %d folders, one per class. Found %d instead.' % (\n",
    "        num_folders, len(data_folders)))\n",
    "  print data_folders\n",
    "  return data_folders\n",
    "\n",
    "train_folders = extract(\"notMNIST_large.tar.gz\")\n",
    "test_folders = extract(\"notMNIST_small.tar.gz\")\n",
    "\n"
   ]
  },
  {
   "cell_type": "markdown",
   "metadata": {},
   "source": [
    "# Problem 1\n",
    "Let's take a peek at some of the data to make sure it looks sensible. Each exemplar should be an image of a character A through J rendered in a different font. Display a sample of the images that we just downloaded. Hint: you can use the package IPython.display."
   ]
  },
  {
   "cell_type": "code",
   "execution_count": 4,
   "metadata": {
    "collapsed": false
   },
   "outputs": [
    {
     "name": "stdout",
     "output_type": "stream",
     "text": [
      "notMNIST_large/A\n",
      "notMNIST_large/A/a29ydW5pc2hpLnR0Zg==.png\n"
     ]
    },
    {
     "data": {
      "image/png": "[encoded data removed]",
      "text/plain": [
       "<IPython.core.display.Image object>"
      ]
     },
     "metadata": {},
     "output_type": "display_data"
    }
   ],
   "source": [
    "#display the image\n",
    "from IPython.display import display,Image\n",
    "folder = train_folders[0]\n",
    "print folder\n",
    "for image in os.listdir(folder)[0:1]:\n",
    "    image = os.path.join(folder, image)\n",
    "    print image\n",
    "    s=Image(filename=image)\n",
    "    display(s)"
   ]
  },
  {
   "cell_type": "code",
   "execution_count": 5,
   "metadata": {
    "collapsed": false
   },
   "outputs": [
    {
     "name": "stdout",
     "output_type": "stream",
     "text": [
      "notMNIST_large/A\n",
      "Could not read: notMNIST_large/A/RnJlaWdodERpc3BCb29rSXRhbGljLnR0Zg==.png : cannot identify image file 'notMNIST_large/A/RnJlaWdodERpc3BCb29rSXRhbGljLnR0Zg==.png' - it's ok, skipping.\n",
      "Could not read: notMNIST_large/A/SG90IE11c3RhcmQgQlROIFBvc3Rlci50dGY=.png : cannot identify image file 'notMNIST_large/A/SG90IE11c3RhcmQgQlROIFBvc3Rlci50dGY=.png' - it's ok, skipping.\n",
      "Could not read: notMNIST_large/A/Um9tYW5hIEJvbGQucGZi.png : cannot identify image file 'notMNIST_large/A/Um9tYW5hIEJvbGQucGZi.png' - it's ok, skipping.\n",
      "notMNIST_large/B\n",
      "Could not read: notMNIST_large/B/TmlraXNFRi1TZW1pQm9sZEl0YWxpYy5vdGY=.png : cannot identify image file 'notMNIST_large/B/TmlraXNFRi1TZW1pQm9sZEl0YWxpYy5vdGY=.png' - it's ok, skipping.\n",
      "notMNIST_large/C\n",
      "notMNIST_large/D\n",
      "Could not read: notMNIST_large/D/VHJhbnNpdCBCb2xkLnR0Zg==.png : cannot identify image file 'notMNIST_large/D/VHJhbnNpdCBCb2xkLnR0Zg==.png' - it's ok, skipping.\n",
      "notMNIST_large/E\n",
      "notMNIST_large/F\n",
      "notMNIST_large/G\n",
      "notMNIST_large/H\n",
      "notMNIST_large/I\n",
      "notMNIST_large/J\n",
      "Full dataset tensor: (529114, 28, 28)\n",
      "Mean: -0.0816596\n",
      "Standard deviation: 0.454233\n",
      "Labels: (529114,)\n",
      "notMNIST_small/A\n",
      "Could not read: notMNIST_small/A/RGVtb2NyYXRpY2FCb2xkT2xkc3R5bGUgQm9sZC50dGY=.png : cannot identify image file 'notMNIST_small/A/RGVtb2NyYXRpY2FCb2xkT2xkc3R5bGUgQm9sZC50dGY=.png' - it's ok, skipping.\n",
      "notMNIST_small/B\n",
      "notMNIST_small/C\n",
      "notMNIST_small/D\n",
      "notMNIST_small/E\n",
      "notMNIST_small/F\n",
      "Could not read: notMNIST_small/F/Q3Jvc3NvdmVyIEJvbGRPYmxpcXVlLnR0Zg==.png : cannot identify image file 'notMNIST_small/F/Q3Jvc3NvdmVyIEJvbGRPYmxpcXVlLnR0Zg==.png' - it's ok, skipping.\n",
      "notMNIST_small/G\n",
      "notMNIST_small/H\n",
      "notMNIST_small/I\n",
      "notMNIST_small/J\n",
      "Full dataset tensor: (18724, 28, 28)\n",
      "Mean: -0.0746362\n",
      "Standard deviation: 0.458622\n",
      "Labels: (18724,)\n"
     ]
    }
   ],
   "source": [
    "#data preprocess\n",
    "image_size = 28  # Pixel width and height.\n",
    "pixel_depth = 255.0  # Number of levels per pixel.\n",
    "\n",
    "def load(data_folders, min_num_images, max_num_images):\n",
    "  dataset = np.ndarray(\n",
    "    shape=(max_num_images, image_size, image_size), dtype=np.float32)\n",
    "  labels = np.ndarray(shape=(max_num_images), dtype=np.int32)\n",
    "  label_index = 0\n",
    "  image_index = 0\n",
    "  for folder in data_folders:\n",
    "    print folder\n",
    "    for image in os.listdir(folder):\n",
    "      if image_index >= max_num_images:\n",
    "        raise Exception('More images than expected: %d >= %d' % (\n",
    "          num_images, max_num_images))\n",
    "      image_file = os.path.join(folder, image)\n",
    "      try:\n",
    "        image_data = (ndimage.imread(image_file).astype(float) -\n",
    "                      pixel_depth / 2) / pixel_depth\n",
    "        if image_data.shape != (image_size, image_size):\n",
    "          raise Exception('Unexpected image shape: %s' % str(image_data.shape))\n",
    "        dataset[image_index, :, :] = image_data\n",
    "        labels[image_index] = label_index\n",
    "        image_index += 1\n",
    "      except IOError as e:\n",
    "        print 'Could not read:', image_file, ':', e, '- it\\'s ok, skipping.'\n",
    "    label_index += 1\n",
    "  num_images = image_index\n",
    "  dataset = dataset[0:num_images, :, :]\n",
    "  labels = labels[0:num_images]\n",
    "  if num_images < min_num_images:\n",
    "    raise Exception('Many fewer images than expected: %d < %d' % (\n",
    "        num_images, min_num_images))\n",
    "  print 'Full dataset tensor:', dataset.shape\n",
    "  print 'Mean:', np.mean(dataset)\n",
    "  print 'Standard deviation:', np.std(dataset)\n",
    "  print 'Labels:', labels.shape\n",
    "  return dataset, labels\n",
    "train_dataset, train_labels = load(train_folders, 450000, 550000)\n",
    "test_dataset, test_labels = load(test_folders, 18000, 20000)"
   ]
  },
  {
   "cell_type": "code",
   "execution_count": 20,
   "metadata": {
    "collapsed": false
   },
   "outputs": [],
   "source": [
    "%matplotlib inline"
   ]
  },
  {
   "cell_type": "markdown",
   "metadata": {},
   "source": [
    "# problem 2\n",
    "Let's verify that the data still looks good. Displaying a sample of the labels and images from the ndarray. Hint: you can use matplotlib.pyplot."
   ]
  },
  {
   "cell_type": "code",
   "execution_count": 21,
   "metadata": {
    "collapsed": false
   },
   "outputs": [
    {
     "name": "stdout",
     "output_type": "stream",
     "text": [
      "notMNIST_large/A\n",
      "notMNIST_large/A/a29ydW5pc2hpLnR0Zg==.png\n",
      "notMNIST_large/A/a2F6b28udHRm.png\n",
      "notMNIST_large/A/a2FkZW4udHRm.png\n"
     ]
    },
    {
     "data": {
      "image/png": "[encoded data removed]",
      "text/plain": [
       "<matplotlib.figure.Figure at 0x1309a3d90>"
      ]
     },
     "metadata": {},
     "output_type": "display_data"
    }
   ],
   "source": [
    "#display the image from ndarray\n",
    "#from IPython.display import display,Image\n",
    "from scipy import ndimage\n",
    "from PIL import Image\n",
    "import matplotlib.pyplot as plt\n",
    "folder = train_folders[0]\n",
    "print folder\n",
    "for image in os.listdir(folder)[0:3]:\n",
    "    image = os.path.join(folder, image)\n",
    "    print image\n",
    "    image_data = (ndimage.imread(image).astype(float)-pixel_depth / 2) / pixel_depth\n",
    "    #img = Image.fromarray(image_data)\n",
    "    #print image_data\n",
    "    plt.imshow(image_data)"
   ]
  },
  {
   "cell_type": "code",
   "execution_count": 13,
   "metadata": {
    "collapsed": true
   },
   "outputs": [],
   "source": [
    "#shuffling the dataset\n",
    "np.random.seed(133)\n",
    "def randomize(dataset, labels):\n",
    "  permutation = np.random.permutation(labels.shape[0])\n",
    "  shuffled_dataset = dataset[permutation,:,:]\n",
    "  shuffled_labels = labels[permutation]\n",
    "  return shuffled_dataset, shuffled_labels\n",
    "train_dataset, train_labels = randomize(train_dataset, train_labels)\n",
    "test_dataset, test_labels = randomize(test_dataset, test_labels)"
   ]
  },
  {
   "cell_type": "markdown",
   "metadata": {},
   "source": [
    "# problem 3\n",
    "Convince yourself that the data is still good after shuffling!"
   ]
  },
  {
   "cell_type": "code",
   "execution_count": 14,
   "metadata": {
    "collapsed": false
   },
   "outputs": [],
   "source": [
    "# Judge whether the datasets are still good or not \n"
   ]
  },
  {
   "cell_type": "markdown",
   "metadata": {},
   "source": [
    "# problem 4\n",
    "Another check: we expect the data to be balanced across classes. Verify that."
   ]
  },
  {
   "cell_type": "code",
   "execution_count": 15,
   "metadata": {
    "collapsed": false
   },
   "outputs": [
    {
     "name": "stdout",
     "output_type": "stream",
     "text": [
      "{0: 52908, 1: 52910, 2: 52911, 3: 52910, 4: 52911, 5: 52911, 6: 52911, 7: 52911, 8: 52911, 9: 52910}\n"
     ]
    }
   ],
   "source": [
    "#verify the distribution of  classes\n",
    "dist = {}\n",
    "def verify(dataset):\n",
    "    for ds in dataset:\n",
    "        if dist.get(ds)==None:\n",
    "            dist[ds]=0\n",
    "        else:\n",
    "            dist[ds]= dist[ds]+1\n",
    "    return dist\n",
    "print verify(train_labels)\n"
   ]
  },
  {
   "cell_type": "code",
   "execution_count": 16,
   "metadata": {
    "collapsed": false
   },
   "outputs": [
    {
     "name": "stdout",
     "output_type": "stream",
     "text": [
      "{0: 52908, 1: 52910, 2: 52911, 3: 52910, 4: 52911, 5: 52911, 6: 52911, 7: 52911, 8: 52911, 9: 52910}\n",
      "{0: 54780, 1: 54783, 2: 54784, 3: 54783, 4: 54784, 5: 54783, 6: 54783, 7: 54783, 8: 54783, 9: 54782}\n"
     ]
    }
   ],
   "source": [
    "#verify the distribution of  classes\n",
    "dist = {}\n",
    "def verify(dataset):\n",
    "    for ds in dataset:\n",
    "        if dist.get(ds)==None:\n",
    "            dist[ds]=0\n",
    "        else:\n",
    "            dist[ds]= dist[ds]+1\n",
    "    return dist\n",
    "print verify(train_labels)\n",
    "print verify(test_labels)"
   ]
  },
  {
   "cell_type": "code",
   "execution_count": 17,
   "metadata": {
    "collapsed": false
   },
   "outputs": [
    {
     "name": "stdout",
     "output_type": "stream",
     "text": [
      "Training (200000, 28, 28) (200000,)\n",
      "Validation (10000, 28, 28) (10000,)\n"
     ]
    }
   ],
   "source": [
    "#divide dataset into train_set and valid_set\n",
    "train_size = 200000\n",
    "valid_size = 10000\n",
    "\n",
    "valid_dataset = train_dataset[:valid_size,:,:]\n",
    "valid_labels = train_labels[:valid_size]\n",
    "train_dataset = train_dataset[valid_size:valid_size+train_size,:,:]\n",
    "train_labels = train_labels[valid_size:valid_size+train_size]\n",
    "print 'Training', train_dataset.shape, train_labels.shape\n",
    "print 'Validation', valid_dataset.shape, valid_labels.shape"
   ]
  },
  {
   "cell_type": "code",
   "execution_count": 18,
   "metadata": {
    "collapsed": false
   },
   "outputs": [
    {
     "name": "stdout",
     "output_type": "stream",
     "text": [
      "Compressed pickle size: 718193801\n"
     ]
    }
   ],
   "source": [
    "pickle_file = 'notMNIST.pickle'\n",
    "\n",
    "try:\n",
    "  f = open(pickle_file, 'wb')\n",
    "  save = {\n",
    "    'train_dataset': train_dataset,\n",
    "    'train_labels': train_labels,\n",
    "    'valid_dataset': valid_dataset,\n",
    "    'valid_labels': valid_labels,\n",
    "    'test_dataset': test_dataset,\n",
    "    'test_labels': test_labels,\n",
    "    }\n",
    "  pickle.dump(save, f, pickle.HIGHEST_PROTOCOL)\n",
    "  f.close()\n",
    "except Exception as e:\n",
    "  print 'Unable to save data to', pickle_file, ':', e\n",
    "  raise\n",
    "statinfo = os.stat(pickle_file)\n",
    "print 'Compressed pickle size:', statinfo.st_size"
   ]
  },
  {
   "cell_type": "markdown",
   "metadata": {},
   "source": [
    "# problem 5\n",
    "By construction, this dataset might contain a lot of overlapping samples, including training data that's also contained in the validation and test set! Overlap between training and test can skew the results if you expect to use your model in an environment where there is never an overlap, but are actually ok if you expect to see training samples recur when you use it. Measure how much overlap there is between training, validation and test samples. Optional questions:\n",
    "* What about near duplicates between datasets? (images that are almost identical)\n",
    "* Create a sanitized validation and test set, and compare your accuracy on those in subsequent assignments."
   ]
  },
  {
   "cell_type": "code",
   "execution_count": 19,
   "metadata": {
    "collapsed": false
   },
   "outputs": [
    {
     "name": "stdout",
     "output_type": "stream",
     "text": [
      "train_dataset overlaps valid_dataset -3735\n",
      "train_dataset overlaps test_dataset 3495\n",
      "test_dataset overlaps valid_dataset 9222\n"
     ]
    }
   ],
   "source": [
    "#compute the overlap of each datasets with each other\n",
    "\n",
    "def OL_Comp(dataset_1, dataset_2):\n",
    "    sum = 0\n",
    "    #Combine two ndarray\n",
    "    dataset = np.vstack([dataset_1,dataset_2])\n",
    "    #platten each element and put them into list\n",
    "    dataset = [d.flatten() for d in dataset]\n",
    "    #convert list into np.array\n",
    "    temp = np.array(dataset)\n",
    "    #to be hashable\n",
    "    new = np.vstack({tuple(row) for row in temp})\n",
    "    if dataset_1.shape[0]>=dataset_2.shape[0]:\n",
    "        sum = new.shape[0]-dataset_1.shape[0]\n",
    "    else:\n",
    "        sum = new.shape[0]-dataset_2.shape[0]\n",
    "    return sum\n",
    "\n",
    "# file = open('notMNIST.pickle','r')\n",
    "# data_stream = pickle.load(file)\n",
    "train_dataset = save['train_dataset']\n",
    "valid_dataset = save['valid_dataset']\n",
    "print 'train_dataset '+'overlaps'+' valid_dataset', OL_Comp(train_dataset,valid_dataset)\n",
    "print 'train_dataset '+'overlaps'+' test_dataset', OL_Comp(train_dataset,test_dataset)\n",
    "print 'test_dataset '+'overlaps'+' valid_dataset', OL_Comp(test_dataset,valid_dataset)"
   ]
  },
  {
   "cell_type": "markdown",
   "metadata": {},
   "source": [
    "# Problem 6\n",
    "Let's get an idea of what an off-the-shelf classifier can give you on this data. It's always good to check that there is something to learn, and that it's a problem that is not so trivial that a canned solution solves it.\n",
    "Train a simple model on this data using 50, 100, 1000 and 5000 training samples. Hint: you can use the LogisticRegression model from sklearn.linear_model.\n",
    "Optional question: train an off-the-shelf model on all the data!\n"
   ]
  },
  {
   "cell_type": "code",
   "execution_count": 80,
   "metadata": {
    "collapsed": false
   },
   "outputs": [],
   "source": [
    "from sklearn.linear_model import LogisticRegression\n",
    "from sklearn import metrics\n",
    "import random"
   ]
  },
  {
   "cell_type": "code",
   "execution_count": 69,
   "metadata": {
    "collapsed": false
   },
   "outputs": [],
   "source": [
    "index_train = np.random.randint(0,len(train_dataset),50)\n",
    "index_test = np.random.randint(0,len(test_dataset),100)"
   ]
  },
  {
   "cell_type": "markdown",
   "metadata": {},
   "source": [
    "## 1. Size 50"
   ]
  },
  {
   "cell_type": "code",
   "execution_count": 94,
   "metadata": {
    "collapsed": false
   },
   "outputs": [],
   "source": [
    "# random sample\n",
    "def validation(train_dataset, test_dataset, train_labels, test_labels, sampling_train, sampling_test):\n",
    "    index_train = np.random.randint(0,len(train_dataset),sampling_train)\n",
    "    index_test = np.random.randint(0,len(test_dataset),sampling_test)\n",
    "\n",
    "    X_train= train_dataset[index_train]\n",
    "    y_train = train_labels[index_train]\n",
    "\n",
    "\n",
    "    X_test = test_dataset[index_test]\n",
    "    y_test = test_labels[index_test]\n",
    "\n",
    "    X_train = np.array([i.flatten() for i in X_train])\n",
    "    X_test = np.array([i.flatten() for i in X_test])\n",
    "\n",
    "    linreg = LinearRegression()\n",
    "\n",
    "    #trainning\n",
    "    linreg.fit(X_train,y_train)\n",
    "\n",
    "    #Test\n",
    "    y_pred = linreg.predict(X_test)\n",
    "\n",
    "    # calculate MSE \n",
    "    mse = np.sqrt(metrics.mean_squared_error(y_test,y_pred))\n",
    "    return mse"
   ]
  },
  {
   "cell_type": "code",
   "execution_count": 121,
   "metadata": {
    "collapsed": false
   },
   "outputs": [],
   "source": [
    "# validation\n",
    "mse_array=[]\n",
    "times = np.arange(100,10001,100)"
   ]
  },
  {
   "cell_type": "code",
   "execution_count": 122,
   "metadata": {
    "collapsed": false
   },
   "outputs": [],
   "source": [
    "for t in times:\n",
    "    mse = validation(train_dataset,test_dataset,train_labels,test_labels,t,100)\n",
    "    mse_array.append(mse)"
   ]
  },
  {
   "cell_type": "code",
   "execution_count": 123,
   "metadata": {
    "collapsed": false
   },
   "outputs": [
    {
     "name": "stdout",
     "output_type": "stream",
     "text": [
      "[2.8056471168494399, 2.7921393533143162, 3.5795919967112417, 2.7904102123232568, 63.153751821892683, 5.4304613313264012, 28.500492569154598, 13.598300036689816, 5.3986135623363829, 4.7030932193857806, 2.9011190141062597, 3.2448659623654779, 2.9525884272529428, 2.8573839457148003, 3.0662443223041302, 2.3646602791379125, 2.3992167029340274, 2.666300369023932, 2.0045122940995808, 2.7205492815544212, 2.1565260320034971, 2.2365047411003687, 1.9727993890928537, 2.1807179513553021, 2.2137573355476472, 2.1748444114597953, 2.0492066301542975, 2.0845794240271229, 2.5686863565183655, 2.0859595097200834, 2.3174097648919409, 2.0369982469630616, 2.4512800563275947, 2.2151488281823726, 1.7715004636754714, 1.8808931798113246, 2.1205792533162544, 1.8589709157709657, 2.2585043061018961, 2.2089182360876807, 1.9981850706064066, 1.9601601003399807, 1.911620148840625, 1.9715896718822665, 1.8474490790635725, 1.9876449451341531, 2.0245899361545407, 1.7365701706779582, 2.035448934742329, 2.1631602177694584, 2.028244769443595, 1.9628683144034131, 2.495918336042219, 1.7840118357453039, 1.9580315227207932, 1.920941016661172, 1.892582641012182, 1.7543049688432211, 1.8044570128195572, 1.8454922367268856, 1.9050095741724875, 2.1230681709123242, 1.8279434404230654, 1.9318377656735339, 1.6389998070898082, 2.009474029917917, 1.9455587984214207, 2.0266482804730916, 1.9923064944052047, 1.7551872004326232, 1.4441315006925637, 1.9314560140686243, 1.490504468230303, 1.7027402905884028, 1.9370105756851845, 2.0456886646214918, 1.70013208420425, 2.0538554777333187, 1.8043836084003002, 1.7059801699494079, 1.4592484158612078, 1.8871669356936116, 1.7182874074132024, 1.817492138488819, 1.7381562321649733, 1.908819828104295, 1.758373972977509, 1.778887153924563, 1.7158442566590828, 1.8408736132719581, 1.4105572404556181, 1.968185967226574, 1.8772402476016024, 1.8324228340395432, 1.6932340832988775, 1.8140565292711064, 1.6407055027110917, 1.7337962679985237, 1.8621101200427372, 1.6714436320256905]\n"
     ]
    }
   ],
   "source": [
    "print mse_array"
   ]
  },
  {
   "cell_type": "code",
   "execution_count": 124,
   "metadata": {
    "collapsed": false
   },
   "outputs": [
    {
     "data": {
      "text/plain": [
       "<matplotlib.text.Text at 0x111273d10>"
      ]
     },
     "execution_count": 124,
     "metadata": {},
     "output_type": "execute_result"
    },
    {
     "data": {
      "image/png": "[encoded data removed]",
      "text/plain": [
       "<matplotlib.figure.Figure at 0x1247d76d0>"
      ]
     },
     "metadata": {},
     "output_type": "display_data"
    }
   ],
   "source": [
    "plt.plot(times,mse_array)\n",
    "plt.xlabel(\"train_size\")\n",
    "plt.ylabel(\"mse\")"
   ]
  },
  {
   "cell_type": "code",
   "execution_count": null,
   "metadata": {
    "collapsed": true
   },
   "outputs": [],
   "source": []
  }
 ],
 "metadata": {
  "kernelspec": {
   "display_name": "Python 2",
   "language": "python",
   "name": "python2"
  },
  "language_info": {
   "codemirror_mode": {
    "name": "ipython",
    "version": 2
   },
   "file_extension": ".py",
   "mimetype": "text/x-python",
   "name": "python",
   "nbconvert_exporter": "python",
   "pygments_lexer": "ipython2",
   "version": "2.7.10"
  }
 },
 "nbformat": 4,
 "nbformat_minor": 0
}
