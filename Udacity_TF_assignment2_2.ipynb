{
 "cells": [
  {
   "cell_type": "code",
   "execution_count": 1,
   "metadata": {
    "collapsed": true
   },
   "outputs": [],
   "source": [
    "import numpy as np\n",
    "import tensorflow as tf\n",
    "from six.moves import cPickle as pickle\n",
    "import matplotlib.pyplot as plt\n",
    "from sklearn import metrics"
   ]
  },
  {
   "cell_type": "code",
   "execution_count": 2,
   "metadata": {
    "collapsed": false
   },
   "outputs": [],
   "source": [
    "%matplotlib inline"
   ]
  },
  {
   "cell_type": "code",
   "execution_count": 3,
   "metadata": {
    "collapsed": false
   },
   "outputs": [
    {
     "name": "stdout",
     "output_type": "stream",
     "text": [
      "('Training set', (200000, 28, 28), (200000,))\n",
      "('Validation set', (10000, 28, 28), (10000,))\n",
      "('Test set', (18724, 28, 28), (18724,))\n"
     ]
    }
   ],
   "source": [
    "pickle_file = 'notMNIST.pickle'\n",
    "\n",
    "with open(pickle_file, 'rb') as f:\n",
    "  save = pickle.load(f)\n",
    "  train_dataset = save['train_dataset']\n",
    "  train_labels = save['train_labels']\n",
    "  valid_dataset = save['valid_dataset']\n",
    "  valid_labels = save['valid_labels']\n",
    "  test_dataset = save['test_dataset']\n",
    "  test_labels = save['test_labels']\n",
    "  del save  # hint to help gc free up memory\n",
    "  print('Training set', train_dataset.shape, train_labels.shape)\n",
    "  print('Validation set', valid_dataset.shape, valid_labels.shape)\n",
    "  print('Test set', test_dataset.shape, test_labels.shape)"
   ]
  },
  {
   "cell_type": "code",
   "execution_count": 4,
   "metadata": {
    "collapsed": false
   },
   "outputs": [
    {
     "name": "stdout",
     "output_type": "stream",
     "text": [
      "('Training set', (200000, 784), (200000, 10))\n",
      "('Validation set', (10000, 784), (10000, 10))\n",
      "('Test set', (18724, 784), (18724, 10))\n"
     ]
    }
   ],
   "source": [
    "image_size = 28\n",
    "num_labels = 10\n",
    "\n",
    "def reformat(dataset, labels):\n",
    "  dataset = dataset.reshape((-1, image_size * image_size)).astype(np.float32)\n",
    "  # Map 2 to [0.0, 1.0, 0.0 ...], 3 to [0.0, 0.0, 1.0 ...]\n",
    "  labels = (np.arange(num_labels) == labels[:,None]).astype(np.float32)\n",
    "  return dataset, labels\n",
    "train_dataset, train_labels = reformat(train_dataset, train_labels)\n",
    "valid_dataset, valid_labels = reformat(valid_dataset, valid_labels)\n",
    "test_dataset, test_labels = reformat(test_dataset, test_labels)\n",
    "print('Training set', train_dataset.shape, train_labels.shape)\n",
    "print('Validation set', valid_dataset.shape, valid_labels.shape)\n",
    "print('Test set', test_dataset.shape, test_labels.shape)"
   ]
  },
  {
   "cell_type": "code",
   "execution_count": 5,
   "metadata": {
    "collapsed": true
   },
   "outputs": [],
   "source": [
    "def accuracy(predictions, labels):\n",
    "  return (100.0 * np.sum(np.argmax(predictions, 1) == np.argmax(labels, 1))\n",
    "          / predictions.shape[0])"
   ]
  },
  {
   "cell_type": "markdown",
   "metadata": {},
   "source": [
    "# Problem 1: Baseline for logistic regression"
   ]
  },
  {
   "cell_type": "code",
   "execution_count": 72,
   "metadata": {
    "collapsed": true
   },
   "outputs": [],
   "source": [
    "batch_size = 128\n",
    "\n",
    "graph = tf.Graph()\n",
    "with graph.as_default():\n",
    "\n",
    "  # Input data. For the training data, we use a placeholder that will be fed\n",
    "  # at run time with a training minibatch.\n",
    "  tf_train_dataset = tf.placeholder(tf.float32,\n",
    "                                    shape=(batch_size, image_size * image_size))\n",
    "  tf_train_labels = tf.placeholder(tf.float32, shape=(batch_size, num_labels))\n",
    "  tf_valid_dataset = tf.constant(valid_dataset)\n",
    "  tf_test_dataset = tf.constant(test_dataset)\n",
    "  \n",
    "  # Variables.\n",
    "  weights = tf.Variable(\n",
    "    tf.truncated_normal([image_size * image_size, num_labels]))\n",
    "  biases = tf.Variable(tf.zeros([num_labels]))\n",
    "  \n",
    "  # Training computation.\n",
    "  logits = tf.matmul(tf_train_dataset, weights) + biases\n",
    "  loss = tf.reduce_mean(\n",
    "    tf.nn.softmax_cross_entropy_with_logits(logits, tf_train_labels))\n",
    "  \n",
    "  # Optimizer.\n",
    "  optimizer = tf.train.GradientDescentOptimizer(0.5).minimize(loss)\n",
    "  \n",
    "  # Predictions for the training, validation, and test data.\n",
    "  train_prediction = tf.nn.softmax(logits)\n",
    "  valid_prediction = tf.nn.softmax(tf.matmul(tf_valid_dataset, weights) + biases)\n",
    "  test_prediction = tf.nn.softmax(tf.matmul(tf_test_dataset, weights) + biases)"
   ]
  },
  {
   "cell_type": "code",
   "execution_count": 73,
   "metadata": {
    "collapsed": false
   },
   "outputs": [
    {
     "name": "stdout",
     "output_type": "stream",
     "text": [
      "Initialized\n",
      "Minibatch loss at step 0 : 19.6592\n",
      "Minibatch accuracy: 5.5%\n",
      "Validation accuracy: 8.2%\n",
      "Minibatch loss at step 500 : 1.56872\n",
      "Minibatch accuracy: 73.4%\n",
      "Validation accuracy: 75.5%\n",
      "Minibatch loss at step 1000 : 1.39899\n",
      "Minibatch accuracy: 75.0%\n",
      "Validation accuracy: 76.7%\n",
      "Minibatch loss at step 1500 : 1.10509\n",
      "Minibatch accuracy: 76.6%\n",
      "Validation accuracy: 77.0%\n",
      "Minibatch loss at step 2000 : 0.902614\n",
      "Minibatch accuracy: 84.4%\n",
      "Validation accuracy: 77.5%\n",
      "Minibatch loss at step 2500 : 1.09693\n",
      "Minibatch accuracy: 78.1%\n",
      "Validation accuracy: 77.2%\n",
      "Minibatch loss at step 3000 : 1.19934\n",
      "Minibatch accuracy: 73.4%\n",
      "Validation accuracy: 78.0%\n",
      "Test accuracy: 85.9%\n"
     ]
    }
   ],
   "source": [
    "num_steps = 3001\n",
    "\n",
    "with tf.Session(graph=graph) as session:\n",
    "  tf.initialize_all_variables().run()\n",
    "  print \"Initialized\"\n",
    "  for step in xrange(num_steps):\n",
    "    # Pick an offset within the training data, which has been randomized.\n",
    "    # Note: we could use better randomization across epochs.\n",
    "    offset = (step * batch_size) % (train_labels.shape[0] - batch_size)\n",
    "    # Generate a minibatch.\n",
    "    batch_data = train_dataset[offset:(offset + batch_size), :]\n",
    "    batch_labels = train_labels[offset:(offset + batch_size), :]\n",
    "    # Prepare a dictionary telling the session where to feed the minibatch.\n",
    "    # The key of the dictionary is the placeholder node of the graph to be fed,\n",
    "    # and the value is the numpy array to feed to it.\n",
    "    feed_dict = {tf_train_dataset : batch_data, tf_train_labels : batch_labels}\n",
    "    _, l, predictions = session.run(\n",
    "      [optimizer, loss, train_prediction], feed_dict=feed_dict)\n",
    "    if (step % 500 == 0):\n",
    "      print \"Minibatch loss at step\", step, \":\", l\n",
    "      print \"Minibatch accuracy: %.1f%%\" % accuracy(predictions, batch_labels)\n",
    "      print \"Validation accuracy: %.1f%%\" % accuracy(\n",
    "        valid_prediction.eval(), valid_labels)\n",
    "  print \"Test accuracy: %.1f%%\" % accuracy(test_prediction.eval(), test_labels)"
   ]
  },
  {
   "cell_type": "markdown",
   "metadata": {},
   "source": [
    "# Adding regularizition for logistic regression"
   ]
  },
  {
   "cell_type": "code",
   "execution_count": 113,
   "metadata": {
    "collapsed": false
   },
   "outputs": [],
   "source": [
    "batch_size = 128\n",
    "lam = 5e-4\n",
    "graph = tf.Graph()\n",
    "with graph.as_default():\n",
    "\n",
    "  # Input data. For the training data, we use a placeholder that will be fed\n",
    "  # at run time with a training minibatch.\n",
    "  tf_train_dataset = tf.placeholder(tf.float32,\n",
    "                                    shape=(batch_size, image_size * image_size))\n",
    "  tf_train_labels = tf.placeholder(tf.float32, shape=(batch_size, num_labels))\n",
    "  tf_valid_dataset = tf.constant(valid_dataset)\n",
    "  tf_test_dataset = tf.constant(test_dataset)\n",
    "  \n",
    "  # Variables.\n",
    "  weights = tf.Variable(\n",
    "    tf.truncated_normal([image_size * image_size, num_labels]))\n",
    "  biases = tf.Variable(tf.zeros([num_labels]))\n",
    "  \n",
    "  # Training computation.\n",
    "  logits = tf.matmul(tf_train_dataset, weights) + biases\n",
    "  loss = tf.reduce_mean(\n",
    "    tf.nn.softmax_cross_entropy_with_logits(logits, tf_train_labels)+ lam*tf.nn.l2_loss(weights)+lam*tf.nn.l2_loss(biases))\n",
    "  \n",
    "  # Optimizer.\n",
    "  optimizer = tf.train.GradientDescentOptimizer(0.5).minimize(loss)\n",
    "  \n",
    "  # Predictions for the training, validation, and test data.\n",
    "  train_prediction = tf.nn.softmax(logits)\n",
    "  valid_prediction = tf.nn.softmax(tf.matmul(tf_valid_dataset, weights) + biases)\n",
    "  test_prediction = tf.nn.softmax(tf.matmul(tf_test_dataset, weights) + biases)"
   ]
  },
  {
   "cell_type": "code",
   "execution_count": 114,
   "metadata": {
    "collapsed": false
   },
   "outputs": [
    {
     "name": "stdout",
     "output_type": "stream",
     "text": [
      "Initialized\n",
      "Minibatch loss at step 0 : 20.9466\n",
      "Minibatch accuracy: 7.0%\n",
      "Validation accuracy: 10.1%\n",
      "Minibatch loss at step 500 : 2.61517\n",
      "Minibatch accuracy: 70.3%\n",
      "Validation accuracy: 76.0%\n",
      "Minibatch loss at step 1000 : 2.01302\n",
      "Minibatch accuracy: 74.2%\n",
      "Validation accuracy: 78.1%\n",
      "Minibatch loss at step 1500 : 1.31996\n",
      "Minibatch accuracy: 81.2%\n",
      "Validation accuracy: 78.6%\n",
      "Minibatch loss at step 2000 : 1.11361\n",
      "Minibatch accuracy: 82.0%\n",
      "Validation accuracy: 79.6%\n",
      "Minibatch loss at step 2500 : 1.08071\n",
      "Minibatch accuracy: 82.0%\n",
      "Validation accuracy: 79.6%\n",
      "Minibatch loss at step 3000 : 0.986267\n",
      "Minibatch accuracy: 78.1%\n",
      "Validation accuracy: 80.3%\n",
      "Test accuracy: 87.5%\n"
     ]
    }
   ],
   "source": [
    "num_steps = 3001\n",
    "\n",
    "with tf.Session(graph=graph) as session:\n",
    "  tf.initialize_all_variables().run()\n",
    "  print \"Initialized\"\n",
    "  for step in xrange(num_steps):\n",
    "    # Pick an offset within the training data, which has been randomized.\n",
    "    # Note: we could use better randomization across epochs.\n",
    "    offset = (step * batch_size) % (train_labels.shape[0] - batch_size)\n",
    "    # Generate a minibatch.\n",
    "    batch_data = train_dataset[offset:(offset + batch_size), :]\n",
    "    batch_labels = train_labels[offset:(offset + batch_size), :]\n",
    "    # Prepare a dictionary telling the session where to feed the minibatch.\n",
    "    # The key of the dictionary is the placeholder node of the graph to be fed,\n",
    "    # and the value is the numpy array to feed to it.\n",
    "    feed_dict = {tf_train_dataset : batch_data, tf_train_labels : batch_labels}\n",
    "    _, l, predictions = session.run(\n",
    "      [optimizer, loss, train_prediction], feed_dict=feed_dict)\n",
    "    if (step % 500 == 0):\n",
    "      print \"Minibatch loss at step\", step, \":\", l\n",
    "      print \"Minibatch accuracy: %.1f%%\" % accuracy(predictions, batch_labels)\n",
    "      print \"Validation accuracy: %.1f%%\" % accuracy(\n",
    "        valid_prediction.eval(), valid_labels)\n",
    "  print \"Test accuracy: %.1f%%\" % accuracy(test_prediction.eval(), test_labels)"
   ]
  },
  {
   "cell_type": "markdown",
   "metadata": {},
   "source": [
    "# Baseline for 1-layer NN"
   ]
  },
  {
   "cell_type": "code",
   "execution_count": 115,
   "metadata": {
    "collapsed": true
   },
   "outputs": [],
   "source": [
    "batch_size = 128\n",
    "node = 1024\n",
    "\n",
    "graph = tf.Graph()\n",
    "with graph.as_default():\n",
    "\n",
    "  # Input data. For the training data, we use a placeholder that will be fed\n",
    "  # at run time with a training minibatch.\n",
    "  tf_train_dataset = tf.placeholder(tf.float32,\n",
    "                                    shape=(batch_size, image_size * image_size))\n",
    "  tf_train_labels = tf.placeholder(tf.float32, shape=(batch_size, num_labels))\n",
    "  tf_valid_dataset = tf.constant(valid_dataset)\n",
    "  tf_test_dataset = tf.constant(test_dataset)\n",
    "  \n",
    "  # Variables.\n",
    "  weights = tf.Variable(\n",
    "    tf.truncated_normal([image_size * image_size, node]))\n",
    "  biases = tf.Variable(tf.zeros([node]))\n",
    "  \n",
    " #### add a hidden layer\n",
    "  weights1 = tf.Variable(\n",
    "    tf.truncated_normal([node,num_labels]))\n",
    "  biases1 = tf.Variable(tf.zeros([num_labels]))  \n",
    "  \n",
    "  # Training computation.\n",
    "  logits_train = tf.matmul(tf_train_dataset, weights) + biases\n",
    "  sigmoid_train = tf.nn.relu(logits_train)\n",
    "  logits_train1 = tf.matmul(sigmoid_train, weights1) + biases1\n",
    "  loss = tf.reduce_mean(\n",
    "    tf.nn.softmax_cross_entropy_with_logits(logits_train1, tf_train_labels))\n",
    "\n",
    "  # Optimizer.\n",
    "  optimizer = tf.train.GradientDescentOptimizer(0.5).minimize(loss)\n",
    "  \n",
    "  # Predictions for the training, validation, and test data.\n",
    "  train_prediction = tf.nn.softmax(logits_train1)\n",
    "  logit_val=tf.matmul(tf_valid_dataset, weights) + biases\n",
    "  sigmoid_val = tf.nn.relu(logit_val)\n",
    "  logits_val1 = tf.matmul(sigmoid_val, weights1) + biases1\n",
    "  valid_prediction = tf.nn.softmax(logits_val1)\n",
    "  logit_test=tf.matmul(tf_test_dataset, weights) + biases\n",
    "  sigmoid_test = tf.nn.relu(logit_test)\n",
    "  logits_test1 = tf.matmul(sigmoid_test, weights1) + biases1\n",
    "  test_prediction = tf.nn.softmax(logits_test1)"
   ]
  },
  {
   "cell_type": "code",
   "execution_count": 116,
   "metadata": {
    "collapsed": false
   },
   "outputs": [
    {
     "name": "stdout",
     "output_type": "stream",
     "text": [
      "Initialized\n",
      "Minibatch loss at step 0 : 361.984\n",
      "Minibatch accuracy: 7.8%\n",
      "Validation accuracy: 30.6%\n",
      "Minibatch loss at step 500 : 42.0269\n",
      "Minibatch accuracy: 73.4%\n",
      "Validation accuracy: 79.2%\n",
      "Minibatch loss at step 1000 : 9.25481\n",
      "Minibatch accuracy: 78.9%\n",
      "Validation accuracy: 80.3%\n",
      "Minibatch loss at step 1500 : 11.3963\n",
      "Minibatch accuracy: 77.3%\n",
      "Validation accuracy: 79.0%\n",
      "Minibatch loss at step 2000 : 6.16731\n",
      "Minibatch accuracy: 84.4%\n",
      "Validation accuracy: 81.3%\n",
      "Minibatch loss at step 2500 : 7.86795\n",
      "Minibatch accuracy: 77.3%\n",
      "Validation accuracy: 81.5%\n",
      "Minibatch loss at step 3000 : 1.98448\n",
      "Minibatch accuracy: 79.7%\n",
      "Validation accuracy: 82.5%\n",
      "Test accuracy: 89.5%\n"
     ]
    }
   ],
   "source": [
    "num_steps = 3001\n",
    "\n",
    "with tf.Session(graph=graph) as session:\n",
    "  tf.initialize_all_variables().run()\n",
    "  print \"Initialized\"\n",
    "  for step in xrange(num_steps):\n",
    "    # Pick an offset within the training data, which has been randomized.\n",
    "    # Note: we could use better randomization across epochs.\n",
    "    offset = (step * batch_size) % (train_labels.shape[0] - batch_size)\n",
    "    # Generate a minibatch.\n",
    "    batch_data = train_dataset[offset:(offset + batch_size), :]\n",
    "    batch_labels = train_labels[offset:(offset + batch_size), :]\n",
    "    # Prepare a dictionary telling the session where to feed the minibatch.\n",
    "    # The key of the dictionary is the placeholder node of the graph to be fed,\n",
    "    # and the value is the numpy array to feed to it.\n",
    "    feed_dict = {tf_train_dataset : batch_data, tf_train_labels : batch_labels}\n",
    "    _, l, predictions = session.run(\n",
    "      [optimizer, loss, train_prediction], feed_dict=feed_dict)\n",
    "    if (step % 500 == 0):\n",
    "      print \"Minibatch loss at step\", step, \":\", l\n",
    "      print \"Minibatch accuracy: %.1f%%\" % accuracy(predictions, batch_labels)\n",
    "      print \"Validation accuracy: %.1f%%\" % accuracy(\n",
    "        valid_prediction.eval(), valid_labels)\n",
    "  print \"Test accuracy: %.1f%%\" % accuracy(test_prediction.eval(), test_labels)"
   ]
  },
  {
   "cell_type": "markdown",
   "metadata": {},
   "source": [
    "# Add regularization for NN"
   ]
  },
  {
   "cell_type": "code",
   "execution_count": 181,
   "metadata": {
    "collapsed": true
   },
   "outputs": [],
   "source": [
    "batch_size = 128\n",
    "node = 1024\n",
    "lamba = 5e-3\n",
    "\n",
    "graph = tf.Graph()\n",
    "with graph.as_default():\n",
    "\n",
    "  # Input data. For the training data, we use a placeholder that will be fed\n",
    "  # at run time with a training minibatch.\n",
    "  tf_train_dataset = tf.placeholder(tf.float32,\n",
    "                                    shape=(batch_size, image_size * image_size))\n",
    "  tf_train_labels = tf.placeholder(tf.float32, shape=(batch_size, num_labels))\n",
    "  tf_valid_dataset = tf.constant(valid_dataset)\n",
    "  tf_test_dataset = tf.constant(test_dataset)\n",
    "  \n",
    "  # Variables.\n",
    "  weights = tf.Variable(\n",
    "    tf.truncated_normal([image_size * image_size, node]))\n",
    "  biases = tf.Variable(tf.zeros([node]))\n",
    "  \n",
    " #### add a hidden layer\n",
    "  weights1 = tf.Variable(\n",
    "    tf.truncated_normal([node,num_labels]))\n",
    "  biases1 = tf.Variable(tf.zeros([num_labels]))  \n",
    "  \n",
    "  # Training computation.\n",
    "  logits_train = tf.matmul(tf_train_dataset, weights) + biases\n",
    "  sigmoid_train = tf.nn.relu(logits_train)\n",
    "  logits_train1 = tf.matmul(sigmoid_train, weights1) + biases1\n",
    "  loss = tf.reduce_mean(\n",
    "    tf.nn.softmax_cross_entropy_with_logits(logits_train1, tf_train_labels)+ lamba*tf.nn.l2_loss(weights)+lamba*tf.nn.l2_loss(biases)+ lamba*tf.nn.l2_loss(weights1)+lamba*tf.nn.l2_loss(biases1))\n",
    "\n",
    "  # Optimizer.\n",
    "  optimizer = tf.train.GradientDescentOptimizer(0.1).minimize(loss)\n",
    "  \n",
    "  # Predictions for the training, validation, and test data.\n",
    "  train_prediction = tf.nn.softmax(logits_train1)\n",
    "  logit_val=tf.matmul(tf_valid_dataset, weights) + biases\n",
    "  sigmoid_val = tf.nn.relu(logit_val)\n",
    "  logits_val1 = tf.matmul(sigmoid_val, weights1) + biases1\n",
    "  valid_prediction = tf.nn.softmax(logits_val1)\n",
    "  logit_test=tf.matmul(tf_test_dataset, weights) + biases\n",
    "  sigmoid_test = tf.nn.relu(logit_test)\n",
    "  logits_test1 = tf.matmul(sigmoid_test, weights1) + biases1\n",
    "  test_prediction = tf.nn.softmax(logits_test1)"
   ]
  },
  {
   "cell_type": "code",
   "execution_count": 220,
   "metadata": {
    "collapsed": false
   },
   "outputs": [
    {
     "name": "stdout",
     "output_type": "stream",
     "text": [
      "Initialized\n",
      "Minibatch loss at step 0 : 1882.64\n",
      "Minibatch accuracy: 17.2%\n",
      "Validation accuracy: 20.1%\n",
      "Test accuracy: 21.9%\n",
      "Minibatch loss at step 500 : 965.998\n",
      "Minibatch accuracy: 74.2%\n",
      "Validation accuracy: 80.6%\n",
      "Test accuracy: 87.5%\n"
     ]
    }
   ],
   "source": [
    "num_steps = 501\n",
    "train_accuracy=[]\n",
    "validation_accuracy=[]\n",
    "test_accuracy= []\n",
    "\n",
    "with tf.Session(graph=graph) as session:\n",
    "  tf.initialize_all_variables().run()\n",
    "  print \"Initialized\"\n",
    "  for step in xrange(num_steps):\n",
    "    # Pick an offset within the training data, which has been randomized.\n",
    "    # Note: we could use better randomization across epochs.\n",
    "    offset = (step * batch_size) % (train_labels.shape[0] - batch_size)\n",
    "    # Generate a minibatch.\n",
    "    batch_data = train_dataset[offset:(offset + batch_size), :]\n",
    "    batch_labels = train_labels[offset:(offset + batch_size), :]\n",
    "    # Prepare a dictionary telling the session where to feed the minibatch.\n",
    "    # The key of the dictionary is the placeholder node of the graph to be fed,\n",
    "    # and the value is the numpy array to feed to it.\n",
    "    feed_dict = {tf_train_dataset : batch_data, tf_train_labels : batch_labels}\n",
    "    _, l, predictions = session.run(\n",
    "      [optimizer, loss, train_prediction], feed_dict=feed_dict)\n",
    "    if (step % 50 == 0):\n",
    "      train_accuracy.append(accuracy(predictions, batch_labels))\n",
    "      validation_accuracy.append(accuracy(valid_prediction.eval(), valid_labels))\n",
    "      test_accuracy.append(accuracy(test_prediction.eval(), test_labels))\n",
    "      if(step%500 ==0):\n",
    "        print \"Minibatch loss at step\", step, \":\", l\n",
    "        print \"Minibatch accuracy: %.1f%%\" % accuracy(predictions, batch_labels)\n",
    "        print \"Validation accuracy: %.1f%%\" % accuracy(valid_prediction.eval(), valid_labels)\n",
    "        print \"Test accuracy: %.1f%%\" % accuracy(test_prediction.eval(), test_labels)\n"
   ]
  },
  {
   "cell_type": "code",
   "execution_count": 219,
   "metadata": {
    "collapsed": false
   },
   "outputs": [
    {
     "name": "stdout",
     "output_type": "stream",
     "text": [
      "(3, 10)\n"
     ]
    },
    {
     "data": {
      "image/png": "[encoded data removed]",
      "text/plain": [
       "<matplotlib.figure.Figure at 0x1109f7d10>"
      ]
     },
     "metadata": {},
     "output_type": "display_data"
    }
   ],
   "source": [
    "x = np.arange(0,10,1)\n",
    "y = np.vstack([train_accuracy,validation_accuracy,test_accuracy])\n",
    "print y.shape\n",
    "plt.plot(x, y.T[x], linewidth=2)\n",
    "plt.show()"
   ]
  },
  {
   "cell_type": "markdown",
   "metadata": {},
   "source": [
    "# Problem 2 : Looking down to overfitting"
   ]
  },
  {
   "cell_type": "code",
   "execution_count": 164,
   "metadata": {
    "collapsed": true
   },
   "outputs": [],
   "source": [
    "batch_size = 50\n",
    "node = 1024\n",
    "lamba = 5e-3\n",
    "\n",
    "graph = tf.Graph()\n",
    "with graph.as_default():\n",
    "\n",
    "  # Input data. For the training data, we use a placeholder that will be fed\n",
    "  # at run time with a training minibatch.\n",
    "  tf_train_dataset = tf.placeholder(tf.float32,\n",
    "                                    shape=(batch_size, image_size * image_size))\n",
    "  tf_train_labels = tf.placeholder(tf.float32, shape=(batch_size, num_labels))\n",
    "  tf_valid_dataset = tf.constant(valid_dataset)\n",
    "  tf_test_dataset = tf.constant(test_dataset)\n",
    "  \n",
    "  # Variables.\n",
    "  weights = tf.Variable(\n",
    "    tf.truncated_normal([image_size * image_size, node]))\n",
    "  biases = tf.Variable(tf.zeros([node]))\n",
    "  \n",
    " #### add a hidden layer\n",
    "  weights1 = tf.Variable(\n",
    "    tf.truncated_normal([node,num_labels]))\n",
    "  biases1 = tf.Variable(tf.zeros([num_labels]))  \n",
    "  \n",
    "  # Training computation.\n",
    "  logits_train = tf.matmul(tf_train_dataset, weights) + biases\n",
    "  sigmoid_train = tf.nn.relu(logits_train)\n",
    "  logits_train1 = tf.matmul(sigmoid_train, weights1) + biases1\n",
    "  loss = tf.reduce_mean(\n",
    "    tf.nn.softmax_cross_entropy_with_logits(logits_train1, tf_train_labels)+ lamba*tf.nn.l2_loss(weights)+lamba*tf.nn.l2_loss(biases)+ lamba*tf.nn.l2_loss(weights1)+lamba*tf.nn.l2_loss(biases1))\n",
    "\n",
    "  # Optimizer.\n",
    "  optimizer = tf.train.GradientDescentOptimizer(0.5).minimize(loss)\n",
    "  \n",
    "  # Predictions for the training, validation, and test data.\n",
    "  train_prediction = tf.nn.softmax(logits_train1)\n",
    "  logit_val=tf.matmul(tf_valid_dataset, weights) + biases\n",
    "  sigmoid_val = tf.nn.relu(logit_val)\n",
    "  logits_val1 = tf.matmul(sigmoid_val, weights1) + biases1\n",
    "  valid_prediction = tf.nn.softmax(logits_val1)\n",
    "  logit_test=tf.matmul(tf_test_dataset, weights) + biases\n",
    "  sigmoid_test = tf.nn.relu(logit_test)\n",
    "  logits_test1 = tf.matmul(sigmoid_test, weights1) + biases1\n",
    "  test_prediction = tf.nn.softmax(logits_test1)"
   ]
  },
  {
   "cell_type": "code",
   "execution_count": 165,
   "metadata": {
    "collapsed": false
   },
   "outputs": [
    {
     "name": "stdout",
     "output_type": "stream",
     "text": [
      "Initialized\n",
      "Minibatch loss at step 0 : 1959.95\n",
      "Minibatch accuracy: 4.0%\n",
      "Validation accuracy: 37.2%\n",
      "Minibatch loss at step 500 : 129.86\n",
      "Minibatch accuracy: 80.0%\n",
      "Validation accuracy: 78.6%\n",
      "Minibatch loss at step 1000 : 11.0844\n",
      "Minibatch accuracy: 82.0%\n",
      "Validation accuracy: 83.3%\n",
      "Minibatch loss at step 1500 : 1.59171\n",
      "Minibatch accuracy: 80.0%\n",
      "Validation accuracy: 82.2%\n",
      "Minibatch loss at step 2000 : 0.644427\n",
      "Minibatch accuracy: 88.0%\n",
      "Validation accuracy: 82.2%\n",
      "Minibatch loss at step 2500 : 0.650042\n",
      "Minibatch accuracy: 84.0%\n",
      "Validation accuracy: 83.4%\n",
      "Minibatch loss at step 3000 : 0.959194\n",
      "Minibatch accuracy: 74.0%\n",
      "Validation accuracy: 82.1%\n",
      "Test accuracy: 89.3%\n"
     ]
    }
   ],
   "source": [
    "num_steps = 3001\n",
    "\n",
    "with tf.Session(graph=graph) as session:\n",
    "  tf.initialize_all_variables().run()\n",
    "  print \"Initialized\"\n",
    "  for step in xrange(num_steps):\n",
    "    # Pick an offset within the training data, which has been randomized.\n",
    "    # Note: we could use better randomization across epochs.\n",
    "    offset = (step * batch_size) % (train_labels.shape[0] - batch_size)\n",
    "    # Generate a minibatch.\n",
    "    batch_data = train_dataset[offset:(offset + batch_size), :]\n",
    "    batch_labels = train_labels[offset:(offset + batch_size), :]\n",
    "    # Prepare a dictionary telling the session where to feed the minibatch.\n",
    "    # The key of the dictionary is the placeholder node of the graph to be fed,\n",
    "    # and the value is the numpy array to feed to it.\n",
    "    feed_dict = {tf_train_dataset : batch_data, tf_train_labels : batch_labels}\n",
    "    _, l, predictions = session.run(\n",
    "      [optimizer, loss, train_prediction], feed_dict=feed_dict)\n",
    "    if (step % 500 == 0):\n",
    "      print \"Minibatch loss at step\", step, \":\", l\n",
    "      print \"Minibatch accuracy: %.1f%%\" % accuracy(predictions, batch_labels)\n",
    "      print \"Validation accuracy: %.1f%%\" % accuracy(\n",
    "        valid_prediction.eval(), valid_labels)\n",
    "  print \"Test accuracy: %.1f%%\" % accuracy(test_prediction.eval(), test_labels)"
   ]
  },
  {
   "cell_type": "markdown",
   "metadata": {},
   "source": [
    "# Testing on the method of dropout"
   ]
  },
  {
   "cell_type": "code",
   "execution_count": 47,
   "metadata": {
    "collapsed": false
   },
   "outputs": [],
   "source": [
    "batch_size = 1280\n",
    "node = 1024\n",
    "lamba = 5e-3\n",
    "SEED = 66478\n",
    "\n",
    "graph = tf.Graph()\n",
    "with graph.as_default():\n",
    "\n",
    "  # Input data. For the training data, we use a placeholder that will be fed\n",
    "  # at run time with a training minibatch.\n",
    "  tf_train_dataset = tf.placeholder(tf.float32,\n",
    "                                    shape=(batch_size, image_size * image_size))\n",
    "  tf_train_labels = tf.placeholder(tf.float32, shape=(batch_size, num_labels))\n",
    "  tf_valid_dataset = tf.constant(valid_dataset)\n",
    "  tf_test_dataset = tf.constant(test_dataset)\n",
    "  \n",
    "  # Variables.\n",
    "  weights = tf.Variable(\n",
    "    tf.truncated_normal([image_size * image_size, node]))\n",
    "  biases = tf.Variable(tf.zeros([node]))\n",
    "  \n",
    " #### add a hidden layer\n",
    "  weights1 = tf.Variable(\n",
    "    tf.truncated_normal([node,num_labels]))\n",
    "  biases1 = tf.Variable(tf.zeros([num_labels]))  \n",
    "  \n",
    "  # Training computation.\n",
    "  logits_train = tf.matmul(tf_train_dataset, weights) + biases\n",
    "  sigmoid_train = tf.nn.relu(logits_train)\n",
    "  dropout = tf.nn.dropout(sigmoid_train,0.5,seed=SEED)\n",
    "  logits_train1 = tf.matmul(dropout, weights1) + biases1\n",
    "  loss = tf.reduce_mean(\n",
    "    tf.nn.softmax_cross_entropy_with_logits(logits_train1, tf_train_labels)+ lamba*tf.nn.l2_loss(weights)+lamba*tf.nn.l2_loss(biases)+ lamba*tf.nn.l2_loss(weights1)+lamba*tf.nn.l2_loss(biases1))\n",
    "\n",
    "  # Optimizer.\n",
    "  optimizer = tf.train.GradientDescentOptimizer(0.5).minimize(loss)\n",
    "  \n",
    "  # Predictions for the training, validation, and test data.\n",
    "  train_prediction = tf.nn.softmax(logits_train1)\n",
    "  logit_val=tf.matmul(tf_valid_dataset, weights) + biases\n",
    "  sigmoid_val = tf.nn.relu(logit_val)\n",
    "  logits_val1 = tf.matmul(sigmoid_val, weights1) + biases1\n",
    "  valid_prediction = tf.nn.softmax(logits_val1)\n",
    "  logit_test=tf.matmul(tf_test_dataset, weights) + biases\n",
    "  sigmoid_test = tf.nn.relu(logit_test)\n",
    "  logits_test1 = tf.matmul(sigmoid_test, weights1) + biases1\n",
    "  test_prediction = tf.nn.softmax(logits_test1)"
   ]
  },
  {
   "cell_type": "code",
   "execution_count": 49,
   "metadata": {
    "collapsed": false
   },
   "outputs": [
    {
     "name": "stdout",
     "output_type": "stream",
     "text": [
      "Initialized\n",
      "Minibatch loss at step 0 : 2039.25\n",
      "Minibatch accuracy: 11.7%\n",
      "Validation accuracy: 35.6%\n",
      "Minibatch loss at step 500 : 126.314\n",
      "Minibatch accuracy: 79.9%\n",
      "Validation accuracy: 84.2%\n",
      "Minibatch loss at step 1000 : 10.7984\n",
      "Minibatch accuracy: 85.8%\n",
      "Validation accuracy: 86.1%\n",
      "Minibatch loss at step 1500 : 1.39295\n",
      "Minibatch accuracy: 87.3%\n",
      "Validation accuracy: 85.7%\n",
      "Test accuracy: 92.1%\n"
     ]
    }
   ],
   "source": [
    "num_steps = 1501\n",
    "\n",
    "with tf.Session(graph=graph) as session:\n",
    "  tf.initialize_all_variables().run()\n",
    "  print \"Initialized\"\n",
    "  for step in xrange(num_steps):\n",
    "    # Pick an offset within the training data, which has been randomized.\n",
    "    # Note: we could use better randomization across epochs.\n",
    "    offset = (step * batch_size) % (train_labels.shape[0] - batch_size)\n",
    "    # Generate a minibatch.\n",
    "    batch_data = train_dataset[offset:(offset + batch_size), :]\n",
    "    batch_labels = train_labels[offset:(offset + batch_size), :]\n",
    "    # Prepare a dictionary telling the session where to feed the minibatch.\n",
    "    # The key of the dictionary is the placeholder node of the graph to be fed,\n",
    "    # and the value is the numpy array to feed to it.\n",
    "    feed_dict = {tf_train_dataset : batch_data, tf_train_labels : batch_labels}\n",
    "    _, l, predictions = session.run(\n",
    "      [optimizer, loss, train_prediction], feed_dict=feed_dict)\n",
    "    if (step % 500 == 0):\n",
    "      print \"Minibatch loss at step\", step, \":\", l\n",
    "      print \"Minibatch accuracy: %.1f%%\" % accuracy(predictions, batch_labels)\n",
    "      print \"Validation accuracy: %.1f%%\" % accuracy(\n",
    "        valid_prediction.eval(), valid_labels)\n",
    "  print \"Test accuracy: %.1f%%\" % accuracy(test_prediction.eval(), test_labels)"
   ]
  },
  {
   "cell_type": "markdown",
   "metadata": {},
   "source": [
    "# Improve model make the accuray as higher as possible(+regulariztion+learning_rate_decay+dropout)"
   ]
  },
  {
   "cell_type": "code",
   "execution_count": 86,
   "metadata": {
    "collapsed": false
   },
   "outputs": [],
   "source": [
    "batch_size = 128\n",
    "node_hidden1 = 1024\n",
    "node_hidden2 = 500\n",
    "node_hidden3 = 300\n",
    "node_hidden4 = 50\n",
    "lamba = 5e-3\n",
    "SEED = 66478\n",
    "\n",
    "# 3_layer_NN\n",
    "def NN(dataset, weights, weights1, weights2, weights3,weights4, biases,biases1,biases2,biases3,biases4):\n",
    "  logits_train = tf.matmul(dataset, weights) + biases\n",
    "  sigmoid_train = tf.nn.tanh(logits_train)\n",
    "  #dropout = tf.nn.dropout(sigmoid_train,0.5,seed=SEED)\n",
    "  logits_train1 = tf.matmul(sigmoid_train, weights1) + biases1\n",
    "  sigmoid_train1 = tf.nn.tanh(logits_train1)\n",
    "  #dropout1 = tf.nn.dropout(sigmoid_train1,0.5,seed=SEED)\n",
    "  logits_train2 = tf.matmul(sigmoid_train1, weights2) + biases2\n",
    "  sigmoid_train2 = tf.nn.tanh(logits_train2)\n",
    "  #dropout2 = tf.nn.dropout(sigmoid_train2,0.5,seed=SEED)\n",
    "  logits_train3 = tf.matmul(sigmoid_train2, weights3) + biases3\n",
    "  sigmoid_train3 = tf.nn.tanh(logits_train3)\n",
    "  logits_train4 = tf.matmul(sigmoid_train3, weights4) + biases4\n",
    "  return logits_train4\n",
    "\n",
    "# def NN_non_train(dataset, weights, weights1, weights2,weights3, weights4,biases,biases1,biases2,biases3,biases4):\n",
    "#   logits_train = tf.matmul(dataset, weights) + biases\n",
    "#   sigmoid_train = tf.nn.tanh(logits_train)\n",
    "#   logits_train1 = tf.matmul(sigmoid_train, weights1) + biases1\n",
    "#   sigmoid_train1 = tf.nn.tanh(logits_train1)\n",
    "#   logits_train2 = tf.matmul(sigmoid_train1, weights2) + biases2\n",
    "#   sigmoid_train2 = tf.nn.tanh(logits_train2)\n",
    "#   logits_train3 = tf.matmul(sigmoid_train2, weights3) + biases3\n",
    "#   sigmoid_train3 = tf.nn.tanh(logits_train3)\n",
    "#   logits_train4 = tf.matmul(sigmoid_train3, weights4) + biases4\n",
    "#   return logits_train4\n",
    "    \n",
    "graph = tf.Graph()\n",
    "with graph.as_default():\n",
    "\n",
    "  # Input data. For the training data, we use a placeholder that will be fed\n",
    "  # at run time with a training minibatch.\n",
    "  tf_train_dataset = tf.placeholder(tf.float32,\n",
    "                                    shape=(batch_size, image_size * image_size))\n",
    "  tf_train_labels = tf.placeholder(tf.float32, shape=(batch_size, num_labels))\n",
    "  tf_valid_dataset = tf.constant(valid_dataset)\n",
    "  tf_test_dataset = tf.constant(test_dataset)\n",
    "  \n",
    "  # Variables.\n",
    "  weights = tf.Variable(\n",
    "    tf.truncated_normal([image_size * image_size, node_hidden1]))\n",
    "  biases = tf.Variable(tf.zeros([node_hidden1]))\n",
    "  \n",
    " #### add 1st hidden layer\n",
    "  weights1 = tf.Variable(\n",
    "    tf.truncated_normal([node_hidden1,node_hidden2]))\n",
    "  biases1 = tf.Variable(tf.zeros([node_hidden2]))  \n",
    "    \n",
    " #### add 2nd hidden layer\n",
    "  weights2 = tf.Variable(\n",
    "    tf.truncated_normal([node_hidden2,node_hidden3]))\n",
    "  biases2 = tf.Variable(tf.zeros([node_hidden3]))  \n",
    "\n",
    "    \n",
    " #### add 3rd hidden layer\n",
    "  weights3 = tf.Variable(\n",
    "    tf.truncated_normal([node_hidden3,node_hidden4]))\n",
    "  biases3 = tf.Variable(tf.zeros([node_hidden4]))  \n",
    "\n",
    "#### add 4th hidden layer\n",
    "  weights4 = tf.Variable(\n",
    "    tf.truncated_normal([node_hidden4,num_labels]))\n",
    "  biases4 = tf.Variable(tf.zeros([num_labels]))\n",
    "    \n",
    " #### Rate decay\n",
    "  global_step = tf.Variable(0)  # count the number of steps taken.\n",
    "  learning_rate = tf.train.exponential_decay(0.1, global_step,100000,0.95,staircase=True)\n",
    "\n",
    "  # Training computation.\n",
    "  logits_train4 = NN(tf_train_dataset,weights, weights1, weights2,weights3,weights4,biases,biases1,biases2,biases3,biases4)\n",
    "  L2 = lamba*tf.nn.l2_loss(weights)+lamba*tf.nn.l2_loss(biases)+ lamba*tf.nn.l2_loss(weights1)+lamba*tf.nn.l2_loss(biases1)+ lamba*tf.nn.l2_loss(weights2)+lamba*tf.nn.l2_loss(biases2)+ lamba*tf.nn.l2_loss(weights3)+lamba*tf.nn.l2_loss(biases3)+ lamba*tf.nn.l2_loss(weights4)+lamba*tf.nn.l2_loss(biases4)\n",
    "  loss = tf.reduce_mean(\n",
    "    tf.nn.softmax_cross_entropy_with_logits(logits_train4, tf_train_labels)+L2)\n",
    "\n",
    "  # Optimizer.\n",
    "  optimizer = tf.train.GradientDescentOptimizer(learning_rate).minimize(loss,global_step=global_step)\n",
    "  \n",
    "  # Predictions for the training, validation, and test data.\n",
    "  train_prediction = tf.nn.softmax(logits_train4)\n",
    "  logits_val = NN(tf_valid_dataset, weights, weights1, weights2,weights3,weights4,biases,biases1,biases2,biases3,biases4)\n",
    "  valid_prediction = tf.nn.softmax(logits_val)\n",
    "  logits_test = NN(tf_test_dataset, weights, weights1, weights2,weights3,weights4,biases,biases1,biases2,biases3,biases4)\n",
    "  test_prediction = tf.nn.softmax(logits_test)"
   ]
  },
  {
   "cell_type": "code",
   "execution_count": 87,
   "metadata": {
    "collapsed": false
   },
   "outputs": [
    {
     "name": "stdout",
     "output_type": "stream",
     "text": [
      "Initialized\n",
      "Minibatch loss at step 0 : 2868.2\n",
      "Minibatch accuracy: 10.9%\n",
      "Validation accuracy: 10.9%\n",
      "Minibatch loss at step 500 : 1742.81\n",
      "Minibatch accuracy: 62.5%\n",
      "Validation accuracy: 58.5%\n",
      "Minibatch loss at step 1000 : 1057.64\n",
      "Minibatch accuracy: 68.8%\n",
      "Validation accuracy: 68.6%\n",
      "Minibatch loss at step 1500 : 641.844\n",
      "Minibatch accuracy: 73.4%\n",
      "Validation accuracy: 73.3%\n",
      "Minibatch loss at step 2000 : 389.51\n",
      "Minibatch accuracy: 78.1%\n",
      "Validation accuracy: 76.4%\n",
      "Minibatch loss at step 2500 : 236.57\n",
      "Minibatch accuracy: 78.9%\n",
      "Validation accuracy: 79.0%\n",
      "Minibatch loss at step 3000 : 143.82\n",
      "Minibatch accuracy: 77.3%\n",
      "Validation accuracy: 80.7%\n",
      "Minibatch loss at step 3500 : 87.4859\n",
      "Minibatch accuracy: 81.2%\n",
      "Validation accuracy: 82.4%\n",
      "Minibatch loss at step 4000 : 53.0652\n",
      "Minibatch accuracy: 89.1%\n",
      "Validation accuracy: 83.6%\n",
      "Minibatch loss at step 4500 : 32.3889\n",
      "Minibatch accuracy: 85.2%\n",
      "Validation accuracy: 84.7%\n",
      "Minibatch loss at step 5000 : 19.8534\n",
      "Minibatch accuracy: 85.2%\n",
      "Validation accuracy: 85.3%\n",
      "Test accuracy: 91.7%\n"
     ]
    }
   ],
   "source": [
    "num_steps = 5001\n",
    "\n",
    "with tf.Session(graph=graph) as session:\n",
    "  tf.initialize_all_variables().run()\n",
    "  print \"Initialized\"\n",
    "  for step in xrange(num_steps):\n",
    "    # Pick an offset within the training data, which has been randomized.\n",
    "    # Note: we could use better randomization across epochs.\n",
    "    offset = (step * batch_size) % (train_labels.shape[0] - batch_size)\n",
    "    # Generate a minibatch.\n",
    "    batch_data = train_dataset[offset:(offset + batch_size), :]\n",
    "    batch_labels = train_labels[offset:(offset + batch_size), :]\n",
    "    # Prepare a dictionary telling the session where to feed the minibatch.\n",
    "    # The key of the dictionary is the placeholder node of the graph to be fed,\n",
    "    # and the value is the numpy array to feed to it.\n",
    "    feed_dict = {tf_train_dataset : batch_data, tf_train_labels : batch_labels}\n",
    "    _, l, predictions = session.run(\n",
    "      [optimizer, loss, train_prediction], feed_dict=feed_dict)\n",
    "    if (step % 500 == 0):\n",
    "      print \"Minibatch loss at step\", step, \":\", l\n",
    "      print \"Minibatch accuracy: %.1f%%\" % accuracy(predictions, batch_labels)\n",
    "      print \"Validation accuracy: %.1f%%\" % accuracy(\n",
    "        valid_prediction.eval(), valid_labels)\n",
    "  print \"Test accuracy: %.1f%%\" % accuracy(test_prediction.eval(), test_labels)"
   ]
  },
  {
   "cell_type": "code",
   "execution_count": null,
   "metadata": {
    "collapsed": true
   },
   "outputs": [],
   "source": []
  }
 ],
 "metadata": {
  "kernelspec": {
   "display_name": "Python 2",
   "language": "python",
   "name": "python2"
  },
  "language_info": {
   "codemirror_mode": {
    "name": "ipython",
    "version": 2
   },
   "file_extension": ".py",
   "mimetype": "text/x-python",
   "name": "python",
   "nbconvert_exporter": "python",
   "pygments_lexer": "ipython2",
   "version": "2.7.10"
  }
 },
 "nbformat": 4,
 "nbformat_minor": 0
}
